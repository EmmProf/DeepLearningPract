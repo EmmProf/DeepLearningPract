{
 "cells": [
  {
   "cell_type": "code",
   "execution_count": 34,
   "metadata": {},
   "outputs": [],
   "source": [
    "class Board:\n",
    "  PIECE_X = '×'\n",
    "  PIECE_O = '○'\n",
    "  PIECE_EMPTY = '-'\n",
    "  \n",
    "  def __init__(self, game_over_callback=None):\n",
    "    self.board = [[self.PIECE_EMPTY]*3, [self.PIECE_EMPTY]*3, [self.PIECE_EMPTY]*3]\n",
    "    self.winner = None\n",
    "    self.last_placed = None\n",
    "    self.game_over_callback = game_over_callback\n",
    "    \n",
    "  def __getitem__(self, index):\n",
    "    return self.board[index // 3][index % 3]\n",
    "    \n",
    "  def __setitem__(self, index, value):\n",
    "    self.board[index // 3][index % 3] = value\n",
    "  \n",
    "  def place(self, symbol, index):\n",
    "    \"\"\"Place the symbol at the index.\n",
    "    \n",
    "    symbol is either PIECE_O or PIECE_X\n",
    "    \n",
    "    Index is a number 0<=index<=9. Every field on the board\n",
    "    has a number.\n",
    "    \n",
    "    0 1 2\n",
    "    3 4 5\n",
    "    6 7 8\n",
    "    \"\"\"\n",
    "    if self.winner:\n",
    "      raise RuntimeError('Player \"{}\" has already won the game.'.format(self.winner))\n",
    "      \n",
    "    if symbol != self.PIECE_X and symbol != self.PIECE_O:\n",
    "      raise ValueError('Symbol must either be PIECE_O or PIECE_X')\n",
    "      \n",
    "    if symbol == self.last_placed:\n",
    "      raise RuntimeError(\"It's not {}'s turn.\".format(symbol))\n",
    "      \n",
    "    if self[index] != self.PIECE_EMPTY:\n",
    "      raise RuntimeError('Spot {} already has a piece by the opposite player.'.format(index))\n",
    "      \n",
    "    self[index] = symbol\n",
    "    self.last_placed = symbol\n",
    "    \n",
    "    if self._check_for_win():\n",
    "      if callable(self.game_over_callback):\n",
    "        self.game_over_callback()\n",
    "    \n",
    "  @staticmethod\n",
    "  def _check_line(iterable, player):\n",
    "    \"\"\"Check if an iterable of pieces were all placed by the same player.\"\"\"\n",
    "    return all(map(lambda piece: piece == player, iterable))\n",
    "  \n",
    "  def _check_for_win(self):\n",
    "    \"\"\"Check if a player has won.\"\"\"\n",
    "    for player in [self.PIECE_X, self.PIECE_O]:\n",
    "      # 1. Check all rows\n",
    "      for row in self.board:\n",
    "        if self._check_line(row, player):\n",
    "          self.winner = player\n",
    "          return True\n",
    "    \n",
    "      # 2. Check all columns\n",
    "      for column in zip(*self.board):\n",
    "        if self._check_line(column, player):\n",
    "          self.winner = player\n",
    "          return True\n",
    "      \n",
    "      # 3. Check the two diagonals\n",
    "      diagonals = [\n",
    "        [self[0], self[4], self[8]],\n",
    "        [self[2], self[4], self[6]],\n",
    "      ]\n",
    "      for diagonal in diagonals:\n",
    "        if self._check_line(diagonal, player):\n",
    "          self.winner = player\n",
    "          return True\n",
    "    \n",
    "    return False\n",
    "    \n",
    "  def __str__(self):\n",
    "    return '\\n'.join(' '.join(row) for row in self.board)"
   ]
  },
  {
   "cell_type": "code",
   "execution_count": 37,
   "metadata": {},
   "outputs": [],
   "source": [
    "a = Board()\n",
    "b =Board()"
   ]
  },
  {
   "cell_type": "code",
   "execution_count": 38,
   "metadata": {},
   "outputs": [],
   "source": [
    "a.place(a.PIECE_O,3)\n",
    "b.place(a.PIECE_O,3)"
   ]
  },
  {
   "cell_type": "code",
   "execution_count": 40,
   "metadata": {},
   "outputs": [
    {
     "data": {
      "text/plain": [
       "\"[['-', '-', '-'], ['○', '-', '-'], ['-', '-', '-']]\""
      ]
     },
     "execution_count": 40,
     "metadata": {},
     "output_type": "execute_result"
    }
   ],
   "source": [
    "str(a.board)"
   ]
  },
  {
   "cell_type": "code",
   "execution_count": 42,
   "metadata": {},
   "outputs": [],
   "source": [
    "StateAction = {}"
   ]
  },
  {
   "cell_type": "code",
   "execution_count": null,
   "metadata": {},
   "outputs": [],
   "source": [
    "StateAction[str(a.board)] = 2"
   ]
  },
  {
   "cell_type": "code",
   "execution_count": 51,
   "metadata": {},
   "outputs": [
    {
     "data": {
      "text/plain": [
       "False"
      ]
     },
     "execution_count": 51,
     "metadata": {},
     "output_type": "execute_result"
    }
   ],
   "source": [
    "str(a.board)not in StateAction.keys()"
   ]
  },
  {
   "cell_type": "code",
   "execution_count": 35,
   "metadata": {},
   "outputs": [],
   "source": [
    "Game = Board()"
   ]
  },
  {
   "cell_type": "code",
   "execution_count": null,
   "metadata": {},
   "outputs": [],
   "source": [
    "for i in range(100):\n",
    "    \n",
    "    \n",
    "    \n",
    "    if Game._check_for_win():\n",
    "        \n",
    "        Game = Board()\n",
    "    \n",
    "    else:\n",
    "        if Game.board not in StateAction.keys():\n",
    "            StateAction[str(Game.board)] = 0\n",
    "        else:\n",
    "            "
   ]
  }
 ],
 "metadata": {
  "kernelspec": {
   "display_name": "Python 3",
   "language": "python",
   "name": "python3"
  },
  "language_info": {
   "codemirror_mode": {
    "name": "ipython",
    "version": 3
   },
   "file_extension": ".py",
   "mimetype": "text/x-python",
   "name": "python",
   "nbconvert_exporter": "python",
   "pygments_lexer": "ipython3",
   "version": "3.6.4"
  }
 },
 "nbformat": 4,
 "nbformat_minor": 2
}
